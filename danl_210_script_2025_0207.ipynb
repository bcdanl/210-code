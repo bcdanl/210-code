{
  "nbformat": 4,
  "nbformat_minor": 0,
  "metadata": {
    "colab": {
      "provenance": [],
      "authorship_tag": "ABX9TyNRmOZJI+L9ZoppJxmbcDb2",
      "include_colab_link": true
    },
    "kernelspec": {
      "name": "python3",
      "display_name": "Python 3"
    },
    "language_info": {
      "name": "python"
    }
  },
  "cells": [
    {
      "cell_type": "markdown",
      "metadata": {
        "id": "view-in-github",
        "colab_type": "text"
      },
      "source": [
        "<a href=\"https://colab.research.google.com/github/bcdanl/210-code/blob/main/danl_210_script_2025_0207.ipynb\" target=\"_parent\"><img src=\"https://colab.research.google.com/assets/colab-badge.svg\" alt=\"Open In Colab\"/></a>"
      ]
    },
    {
      "cell_type": "code",
      "execution_count": 3,
      "metadata": {
        "colab": {
          "base_uri": "https://localhost:8080/"
        },
        "id": "uT4Of7ZtCDSB",
        "outputId": "b3af9943-7b37-47a6-c6e6-a5c529a08a05"
      },
      "outputs": [
        {
          "output_type": "stream",
          "name": "stdout",
          "text": [
            "t\n",
            "h\n",
            "u\n",
            "d\n"
          ]
        }
      ],
      "source": [
        "word = 'thud'\n",
        "offset = 0\n",
        "while offset < len(word):\n",
        "    print(word[offset])\n",
        "    offset += 1"
      ]
    },
    {
      "cell_type": "code",
      "source": [
        "word = 'thud'\n",
        "for i in word:\n",
        "  print(i)"
      ],
      "metadata": {
        "colab": {
          "base_uri": "https://localhost:8080/"
        },
        "id": "diq3AIbeDR8c",
        "outputId": "d67b7b61-6e1d-4dd0-c81b-f71a3a6e1b89"
      },
      "execution_count": 4,
      "outputs": [
        {
          "output_type": "stream",
          "name": "stdout",
          "text": [
            "t\n",
            "h\n",
            "u\n",
            "d\n"
          ]
        }
      ]
    },
    {
      "cell_type": "code",
      "source": [
        "for letter in word:\n",
        "  if letter == 'u':\n",
        "    break\n",
        "  print(letter)"
      ],
      "metadata": {
        "colab": {
          "base_uri": "https://localhost:8080/"
        },
        "id": "reARTJ4RDuTe",
        "outputId": "6dc3c481-042c-4bbe-dd1f-4549a153d62b"
      },
      "execution_count": 5,
      "outputs": [
        {
          "output_type": "stream",
          "name": "stdout",
          "text": [
            "t\n",
            "h\n"
          ]
        }
      ]
    },
    {
      "cell_type": "code",
      "source": [
        "for letter in word:\n",
        "  if letter == 'u':\n",
        "    continue\n",
        "  print(letter)"
      ],
      "metadata": {
        "colab": {
          "base_uri": "https://localhost:8080/"
        },
        "id": "ZIrzrQKYD4SW",
        "outputId": "283a5811-1e04-4115-ae88-3cced5a4a8f2"
      },
      "execution_count": 6,
      "outputs": [
        {
          "output_type": "stream",
          "name": "stdout",
          "text": [
            "t\n",
            "h\n",
            "d\n"
          ]
        }
      ]
    },
    {
      "cell_type": "code",
      "source": [
        "for x in range(0, 3): # 3 is exclusive\n",
        "  print(x)"
      ],
      "metadata": {
        "colab": {
          "base_uri": "https://localhost:8080/"
        },
        "id": "68m4rOR1D8B_",
        "outputId": "84e1b2c0-7fdc-4a77-fe66-8633a86ac824"
      },
      "execution_count": 7,
      "outputs": [
        {
          "output_type": "stream",
          "name": "stdout",
          "text": [
            "0\n",
            "1\n",
            "2\n"
          ]
        }
      ]
    },
    {
      "cell_type": "code",
      "source": [
        "list(range(0, 3))"
      ],
      "metadata": {
        "colab": {
          "base_uri": "https://localhost:8080/"
        },
        "id": "ukIiplQqENAI",
        "outputId": "212de481-c275-495c-f78b-4966ac2efee5"
      },
      "execution_count": 8,
      "outputs": [
        {
          "output_type": "execute_result",
          "data": {
            "text/plain": [
              "[0, 1, 2]"
            ]
          },
          "metadata": {},
          "execution_count": 8
        }
      ]
    },
    {
      "cell_type": "code",
      "source": [
        "for x in range(3): # 3 is exclusive\n",
        "  print(x)"
      ],
      "metadata": {
        "colab": {
          "base_uri": "https://localhost:8080/"
        },
        "id": "HGUyYRIkESuI",
        "outputId": "68eab618-b1e3-4725-9a23-3c6f6426a440"
      },
      "execution_count": 9,
      "outputs": [
        {
          "output_type": "stream",
          "name": "stdout",
          "text": [
            "0\n",
            "1\n",
            "2\n"
          ]
        }
      ]
    },
    {
      "cell_type": "code",
      "source": [
        "for x in range(0, 3, 1): # 3 is exclusive\n",
        "  print(x)"
      ],
      "metadata": {
        "colab": {
          "base_uri": "https://localhost:8080/"
        },
        "id": "S1apEYo0EY76",
        "outputId": "d86d2b69-206c-4f3b-fc9a-774247a1438b"
      },
      "execution_count": 10,
      "outputs": [
        {
          "output_type": "stream",
          "name": "stdout",
          "text": [
            "0\n",
            "1\n",
            "2\n"
          ]
        }
      ]
    },
    {
      "cell_type": "code",
      "source": [
        "word = 'thud'\n",
        "for letter in word:\n",
        "    if letter == 'x':\n",
        "        print(\"Eek! An 'x'!\")\n",
        "        break\n",
        "    print(letter)\n",
        "else:\n",
        "    print(\"No 'x' in there.\")"
      ],
      "metadata": {
        "colab": {
          "base_uri": "https://localhost:8080/"
        },
        "id": "tTxRH0pcEo5o",
        "outputId": "874c2030-af28-48a9-adb4-02e66f910eed"
      },
      "execution_count": 11,
      "outputs": [
        {
          "output_type": "stream",
          "name": "stdout",
          "text": [
            "t\n",
            "h\n",
            "u\n",
            "d\n",
            "No 'x' in there.\n"
          ]
        }
      ]
    },
    {
      "cell_type": "markdown",
      "source": [
        "# CW 4.5\n",
        "\n"
      ],
      "metadata": {
        "id": "ARvUIsZVE1ku"
      }
    },
    {
      "cell_type": "code",
      "source": [
        "vals = [3, 2, 1, 0]"
      ],
      "metadata": {
        "id": "Vuts7k5NE4Do"
      },
      "execution_count": 12,
      "outputs": []
    },
    {
      "cell_type": "markdown",
      "source": [
        "- Use a while loop to print each value of the list [3, 2, 1, 0], one at a time.\n",
        "\n"
      ],
      "metadata": {
        "id": "TroRu7ALFAl1"
      }
    },
    {
      "cell_type": "code",
      "source": [
        "iter = 0\n",
        "while iter < len(vals):\n",
        "  print(vals[iter])\n",
        "  iter += 1"
      ],
      "metadata": {
        "colab": {
          "base_uri": "https://localhost:8080/"
        },
        "id": "Ch--utKCFHKv",
        "outputId": "d21afa2b-9d4f-480a-8499-c40c648af02e"
      },
      "execution_count": 13,
      "outputs": [
        {
          "output_type": "stream",
          "name": "stdout",
          "text": [
            "3\n",
            "2\n",
            "1\n",
            "0\n"
          ]
        }
      ]
    },
    {
      "cell_type": "markdown",
      "source": [
        "- Use a for loop to print each value of the list [3, 2, 1, 0], one at a time."
      ],
      "metadata": {
        "id": "gP6K6VZxFiQt"
      }
    },
    {
      "cell_type": "code",
      "source": [
        "for item in range( len(vals) ):\n",
        "  print(vals[item])"
      ],
      "metadata": {
        "colab": {
          "base_uri": "https://localhost:8080/"
        },
        "id": "2S95zoMDFikp",
        "outputId": "502e1c35-7b28-4790-f2fc-acdac35d2413"
      },
      "execution_count": 14,
      "outputs": [
        {
          "output_type": "stream",
          "name": "stdout",
          "text": [
            "3\n",
            "2\n",
            "1\n",
            "0\n"
          ]
        }
      ]
    },
    {
      "cell_type": "markdown",
      "source": [
        "# CW 4.6\n",
        "\n",
        "- Assign the value 7 to the variable guess_me, and the value 1 to the variable number.\n",
        "\n",
        "- Write a while loop that compares number with guess_me.\n",
        "  - Print ‘too low’ if number is less than guess me.\n",
        "  - If number equals guess_me, print ‘found it!’ and then exit the loop.\n",
        "  - If number is greater than guess_me, print ‘oops’ and then exit the loop.\n",
        "  - Increment number at the end of the loop.\n",
        "\n"
      ],
      "metadata": {
        "id": "h1aV_5NaFGpc"
      }
    },
    {
      "cell_type": "code",
      "source": [
        "guess_me = 7\n",
        "number = 1"
      ],
      "metadata": {
        "id": "MYEMu790E5Ui"
      },
      "execution_count": 15,
      "outputs": []
    },
    {
      "cell_type": "code",
      "source": [
        "while True:\n",
        "  if number < guess_me:\n",
        "    print(\"too low\")\n",
        "  elif number == guess_me:\n",
        "    print(\"found it!\")\n",
        "    break\n",
        "  else:\n",
        "    print(\"oops\")\n",
        "    break\n",
        "\n",
        "  number += 1"
      ],
      "metadata": {
        "colab": {
          "base_uri": "https://localhost:8080/"
        },
        "id": "d8z0MmzUGJcY",
        "outputId": "d119dff2-b87d-4293-a374-5dc10d426d43"
      },
      "execution_count": 16,
      "outputs": [
        {
          "output_type": "stream",
          "name": "stdout",
          "text": [
            "too low\n",
            "too low\n",
            "too low\n",
            "too low\n",
            "too low\n",
            "too low\n",
            "found it!\n"
          ]
        }
      ]
    },
    {
      "cell_type": "markdown",
      "source": [
        "\n",
        "\n",
        "- Write a for loop that compares number with guess_me.\n",
        "  - Print ‘too low’ if number is less than guess me.\n",
        "  - If number equals guess_me, print ‘found it!’ and then exit the loop.\n",
        "  - If number is greater than guess_me, print ‘oops’ and then exit the loop.\n",
        "  - Increment number at the end of the loop."
      ],
      "metadata": {
        "id": "LDj0RyPrGvCJ"
      }
    },
    {
      "cell_type": "code",
      "source": [
        "for number in range(1, guess_me + 1):\n",
        "  if number < guess_me:\n",
        "    print(\"too low\")\n",
        "  elif number == guess_me:\n",
        "    print(\"found it!\")\n",
        "    break\n",
        "  else:\n",
        "    print(\"oops\")\n",
        "    break\n",
        "\n",
        "  number += 1"
      ],
      "metadata": {
        "colab": {
          "base_uri": "https://localhost:8080/"
        },
        "id": "736iEr86Gs1e",
        "outputId": "330a6f76-eaf1-4d51-d831-ab8821054bea"
      },
      "execution_count": 18,
      "outputs": [
        {
          "output_type": "stream",
          "name": "stdout",
          "text": [
            "too low\n",
            "too low\n",
            "too low\n",
            "too low\n",
            "too low\n",
            "too low\n",
            "found it!\n"
          ]
        }
      ]
    },
    {
      "cell_type": "markdown",
      "source": [
        "# List Comprehension"
      ],
      "metadata": {
        "id": "Dglbd3mSH-XM"
      }
    },
    {
      "cell_type": "code",
      "source": [
        "squares = [x**2 for x in range(5) ]"
      ],
      "metadata": {
        "id": "D7fY8qQgH_-5"
      },
      "execution_count": 19,
      "outputs": []
    },
    {
      "cell_type": "code",
      "source": [
        "squares"
      ],
      "metadata": {
        "colab": {
          "base_uri": "https://localhost:8080/"
        },
        "id": "wxA48V10IFek",
        "outputId": "b3131c7f-4bc6-497f-b3de-2f3d69d5c763"
      },
      "execution_count": 20,
      "outputs": [
        {
          "output_type": "execute_result",
          "data": {
            "text/plain": [
              "[0, 1, 4, 9, 16]"
            ]
          },
          "metadata": {},
          "execution_count": 20
        }
      ]
    },
    {
      "cell_type": "code",
      "source": [
        "numbers = [1, 2, 3, 4, 5, 6]\n",
        "lst = [x for x in numbers if x != 2]\n",
        "lst"
      ],
      "metadata": {
        "colab": {
          "base_uri": "https://localhost:8080/"
        },
        "id": "FbhJFy6IIPw1",
        "outputId": "25584de6-d9f0-41bf-f1d8-672213b9b337"
      },
      "execution_count": 21,
      "outputs": [
        {
          "output_type": "execute_result",
          "data": {
            "text/plain": [
              "[1, 3, 4, 5, 6]"
            ]
          },
          "metadata": {},
          "execution_count": 21
        }
      ]
    },
    {
      "cell_type": "markdown",
      "source": [
        "# Dict Comprehension"
      ],
      "metadata": {
        "id": "ybBFYYq4Itv3"
      }
    },
    {
      "cell_type": "code",
      "source": [
        "squares_dict = {x:x**2 for x in range(5)}"
      ],
      "metadata": {
        "id": "HWdh6V8zIvqi"
      },
      "execution_count": 22,
      "outputs": []
    },
    {
      "cell_type": "code",
      "source": [
        "squares_dict"
      ],
      "metadata": {
        "colab": {
          "base_uri": "https://localhost:8080/"
        },
        "id": "RU1dreYGI6mn",
        "outputId": "051684bf-9559-40d4-dc55-74b5e186bb87"
      },
      "execution_count": 23,
      "outputs": [
        {
          "output_type": "execute_result",
          "data": {
            "text/plain": [
              "{0: 0, 1: 1, 2: 4, 3: 9, 4: 16}"
            ]
          },
          "metadata": {},
          "execution_count": 23
        }
      ]
    },
    {
      "cell_type": "code",
      "source": [
        "my_dict = {'a': 1, 'b': 2, 'c': 3, 'd': 4}\n",
        "my_dict"
      ],
      "metadata": {
        "colab": {
          "base_uri": "https://localhost:8080/"
        },
        "id": "AgrJbN0qJCCY",
        "outputId": "82195ee8-398b-4e5c-fb0c-de9eecda7760"
      },
      "execution_count": 25,
      "outputs": [
        {
          "output_type": "execute_result",
          "data": {
            "text/plain": [
              "{'a': 1, 'b': 2, 'c': 3, 'd': 4}"
            ]
          },
          "metadata": {},
          "execution_count": 25
        }
      ]
    },
    {
      "cell_type": "code",
      "source": [
        "my_dict.items()"
      ],
      "metadata": {
        "colab": {
          "base_uri": "https://localhost:8080/"
        },
        "id": "4KYg9ni4JOdu",
        "outputId": "b5754d84-4f27-48e4-f8ed-8865e22dedd2"
      },
      "execution_count": 26,
      "outputs": [
        {
          "output_type": "execute_result",
          "data": {
            "text/plain": [
              "dict_items([('a', 1), ('b', 2), ('c', 3), ('d', 4)])"
            ]
          },
          "metadata": {},
          "execution_count": 26
        }
      ]
    },
    {
      "cell_type": "code",
      "source": [
        "my_dict_filtered = {k: v for k, v in my_dict.items() if v != 2}\n",
        "my_dict_filtered"
      ],
      "metadata": {
        "colab": {
          "base_uri": "https://localhost:8080/"
        },
        "id": "t5epXVlcJE8L",
        "outputId": "349f3758-5d95-4cac-d6ad-1df947c0072b"
      },
      "execution_count": 27,
      "outputs": [
        {
          "output_type": "execute_result",
          "data": {
            "text/plain": [
              "{'a': 1, 'c': 3, 'd': 4}"
            ]
          },
          "metadata": {},
          "execution_count": 27
        }
      ]
    },
    {
      "cell_type": "markdown",
      "source": [
        "# Modifying List and Dict"
      ],
      "metadata": {
        "id": "gxpcIoRlJqK1"
      }
    },
    {
      "cell_type": "code",
      "source": [
        "my_list = [1,2,3]\n",
        "my_list"
      ],
      "metadata": {
        "colab": {
          "base_uri": "https://localhost:8080/"
        },
        "id": "2nxk7bx0Js4c",
        "outputId": "e6f2bf45-68fa-43fb-aacb-6ff95020d6ac"
      },
      "execution_count": 28,
      "outputs": [
        {
          "output_type": "execute_result",
          "data": {
            "text/plain": [
              "[1, 2, 3]"
            ]
          },
          "metadata": {},
          "execution_count": 28
        }
      ]
    },
    {
      "cell_type": "code",
      "source": [
        "my_list.append(4)"
      ],
      "metadata": {
        "id": "1nOXUBjtJw-C"
      },
      "execution_count": 29,
      "outputs": []
    },
    {
      "cell_type": "code",
      "source": [
        "my_list"
      ],
      "metadata": {
        "colab": {
          "base_uri": "https://localhost:8080/"
        },
        "id": "J1-QXfupJypb",
        "outputId": "9f45ac08-f576-4bcd-e5b7-6bf4534ca269"
      },
      "execution_count": 30,
      "outputs": [
        {
          "output_type": "execute_result",
          "data": {
            "text/plain": [
              "[1, 2, 3, 4]"
            ]
          },
          "metadata": {},
          "execution_count": 30
        }
      ]
    },
    {
      "cell_type": "code",
      "source": [
        "my_list = [1, 2, 3, 4, 2]\n",
        "my_list.remove(2)\n",
        "my_list"
      ],
      "metadata": {
        "colab": {
          "base_uri": "https://localhost:8080/"
        },
        "id": "8Wp2-NJ0J9pS",
        "outputId": "645588dd-cb5b-41b8-82b8-30f4e6879386"
      },
      "execution_count": 31,
      "outputs": [
        {
          "output_type": "execute_result",
          "data": {
            "text/plain": [
              "[1, 3, 4, 2]"
            ]
          },
          "metadata": {},
          "execution_count": 31
        }
      ]
    },
    {
      "cell_type": "code",
      "source": [
        "my_list = [1, 2, 3, 4, 2]\n",
        "x_list = [x for x in my_list if x != 2]\n",
        "x_list"
      ],
      "metadata": {
        "colab": {
          "base_uri": "https://localhost:8080/"
        },
        "id": "_sUcDwEZKAnK",
        "outputId": "ecca1c5b-cba3-4b8c-ac46-6393dec1a8cd"
      },
      "execution_count": 32,
      "outputs": [
        {
          "output_type": "execute_result",
          "data": {
            "text/plain": [
              "[1, 3, 4]"
            ]
          },
          "metadata": {},
          "execution_count": 32
        }
      ]
    },
    {
      "cell_type": "code",
      "source": [
        "my_list = [1, 2, 3, 4]\n",
        "del my_list[1]\n",
        "my_list"
      ],
      "metadata": {
        "colab": {
          "base_uri": "https://localhost:8080/"
        },
        "id": "kXH2pUxbKNto",
        "outputId": "49734711-d4c2-46b2-fc62-6e53a1bac480"
      },
      "execution_count": 34,
      "outputs": [
        {
          "output_type": "execute_result",
          "data": {
            "text/plain": [
              "[1, 3, 4]"
            ]
          },
          "metadata": {},
          "execution_count": 34
        }
      ]
    },
    {
      "cell_type": "code",
      "source": [
        "del my_list[1:3]\n",
        "my_list"
      ],
      "metadata": {
        "colab": {
          "base_uri": "https://localhost:8080/"
        },
        "id": "Ozz2-RRZKgVh",
        "outputId": "6a113b5c-de75-4065-da68-ea5066ca0d85"
      },
      "execution_count": 35,
      "outputs": [
        {
          "output_type": "execute_result",
          "data": {
            "text/plain": [
              "[1]"
            ]
          },
          "metadata": {},
          "execution_count": 35
        }
      ]
    },
    {
      "cell_type": "code",
      "source": [
        "my_dict = {'a': 1, 'b': 2}\n",
        "my_dict.update({'c': 3})\n",
        "my_dict"
      ],
      "metadata": {
        "colab": {
          "base_uri": "https://localhost:8080/"
        },
        "id": "V2HvATTzK6Vc",
        "outputId": "b2fd4c36-cf46-4340-c56f-914d474fe440"
      },
      "execution_count": 36,
      "outputs": [
        {
          "output_type": "execute_result",
          "data": {
            "text/plain": [
              "{'a': 1, 'b': 2, 'c': 3}"
            ]
          },
          "metadata": {},
          "execution_count": 36
        }
      ]
    },
    {
      "cell_type": "code",
      "source": [
        "my_dict.update({'a': 10})\n",
        "my_dict"
      ],
      "metadata": {
        "colab": {
          "base_uri": "https://localhost:8080/"
        },
        "id": "xrtdjG4oK9OV",
        "outputId": "e6142a0c-2dac-40d5-c8b0-32bc6c1a8f6d"
      },
      "execution_count": 37,
      "outputs": [
        {
          "output_type": "execute_result",
          "data": {
            "text/plain": [
              "{'a': 10, 'b': 2, 'c': 3}"
            ]
          },
          "metadata": {},
          "execution_count": 37
        }
      ]
    },
    {
      "cell_type": "code",
      "source": [
        "my_dict = {'a': 1, 'b': 2, 'c': 3}\n",
        "del my_dict['b']\n",
        "my_dict"
      ],
      "metadata": {
        "colab": {
          "base_uri": "https://localhost:8080/"
        },
        "id": "GDLnV4kzLFYd",
        "outputId": "4ad52ae5-6cb9-4312-ae14-1087b0b84d3e"
      },
      "execution_count": 38,
      "outputs": [
        {
          "output_type": "execute_result",
          "data": {
            "text/plain": [
              "{'a': 1, 'c': 3}"
            ]
          },
          "metadata": {},
          "execution_count": 38
        }
      ]
    },
    {
      "cell_type": "markdown",
      "source": [
        "# try-except block"
      ],
      "metadata": {
        "id": "gezsku2DLoKH"
      }
    },
    {
      "cell_type": "code",
      "source": [
        "short_list = [1, 2, 3]\n",
        "position = 5\n",
        "short_list[position]"
      ],
      "metadata": {
        "colab": {
          "base_uri": "https://localhost:8080/",
          "height": 173
        },
        "id": "FTms7H2qLpqJ",
        "outputId": "9ddd6c1c-4702-49aa-cabd-1fea9044a58b"
      },
      "execution_count": 39,
      "outputs": [
        {
          "output_type": "error",
          "ename": "IndexError",
          "evalue": "list index out of range",
          "traceback": [
            "\u001b[0;31m---------------------------------------------------------------------------\u001b[0m",
            "\u001b[0;31mIndexError\u001b[0m                                Traceback (most recent call last)",
            "\u001b[0;32m<ipython-input-39-f5eaf9cc45f2>\u001b[0m in \u001b[0;36m<cell line: 0>\u001b[0;34m()\u001b[0m\n\u001b[1;32m      1\u001b[0m \u001b[0mshort_list\u001b[0m \u001b[0;34m=\u001b[0m \u001b[0;34m[\u001b[0m\u001b[0;36m1\u001b[0m\u001b[0;34m,\u001b[0m \u001b[0;36m2\u001b[0m\u001b[0;34m,\u001b[0m \u001b[0;36m3\u001b[0m\u001b[0;34m]\u001b[0m\u001b[0;34m\u001b[0m\u001b[0;34m\u001b[0m\u001b[0m\n\u001b[1;32m      2\u001b[0m \u001b[0mposition\u001b[0m \u001b[0;34m=\u001b[0m \u001b[0;36m5\u001b[0m\u001b[0;34m\u001b[0m\u001b[0;34m\u001b[0m\u001b[0m\n\u001b[0;32m----> 3\u001b[0;31m \u001b[0mshort_list\u001b[0m\u001b[0;34m[\u001b[0m\u001b[0mposition\u001b[0m\u001b[0;34m]\u001b[0m\u001b[0;34m\u001b[0m\u001b[0;34m\u001b[0m\u001b[0m\n\u001b[0m",
            "\u001b[0;31mIndexError\u001b[0m: list index out of range"
          ]
        }
      ]
    },
    {
      "cell_type": "code",
      "source": [
        "for i in range(6):\n",
        "  print(short_list[i])"
      ],
      "metadata": {
        "colab": {
          "base_uri": "https://localhost:8080/",
          "height": 207
        },
        "id": "eQcz_8qmLuKT",
        "outputId": "f70cce25-7c66-433f-d91b-917ed57f6e8d"
      },
      "execution_count": 40,
      "outputs": [
        {
          "output_type": "stream",
          "name": "stdout",
          "text": [
            "1\n",
            "2\n",
            "3\n"
          ]
        },
        {
          "output_type": "error",
          "ename": "IndexError",
          "evalue": "list index out of range",
          "traceback": [
            "\u001b[0;31m---------------------------------------------------------------------------\u001b[0m",
            "\u001b[0;31mIndexError\u001b[0m                                Traceback (most recent call last)",
            "\u001b[0;32m<ipython-input-40-e43861962224>\u001b[0m in \u001b[0;36m<cell line: 0>\u001b[0;34m()\u001b[0m\n\u001b[1;32m      1\u001b[0m \u001b[0;32mfor\u001b[0m \u001b[0mi\u001b[0m \u001b[0;32min\u001b[0m \u001b[0mrange\u001b[0m\u001b[0;34m(\u001b[0m\u001b[0;36m6\u001b[0m\u001b[0;34m)\u001b[0m\u001b[0;34m:\u001b[0m\u001b[0;34m\u001b[0m\u001b[0;34m\u001b[0m\u001b[0m\n\u001b[0;32m----> 2\u001b[0;31m   \u001b[0mprint\u001b[0m\u001b[0;34m(\u001b[0m\u001b[0mshort_list\u001b[0m\u001b[0;34m[\u001b[0m\u001b[0mi\u001b[0m\u001b[0;34m]\u001b[0m\u001b[0;34m)\u001b[0m\u001b[0;34m\u001b[0m\u001b[0;34m\u001b[0m\u001b[0m\n\u001b[0m",
            "\u001b[0;31mIndexError\u001b[0m: list index out of range"
          ]
        }
      ]
    },
    {
      "cell_type": "code",
      "source": [
        "short_list = [1, 2, 3]\n",
        "position = 5\n",
        "\n",
        "try:\n",
        "    short_list[position]\n",
        "except:\n",
        "    print('Need a position between 0 and', len(short_list)-1, ' but got',\n",
        "    position)"
      ],
      "metadata": {
        "colab": {
          "base_uri": "https://localhost:8080/"
        },
        "id": "FyqxJGKeL_Zj",
        "outputId": "73e63893-d55c-48aa-8b05-a9f185f93d93"
      },
      "execution_count": 41,
      "outputs": [
        {
          "output_type": "stream",
          "name": "stdout",
          "text": [
            "Need a position between 0 and 2  but got 5\n"
          ]
        }
      ]
    },
    {
      "cell_type": "code",
      "source": [
        "short_list = [1, 2, 3]\n",
        "while True:\n",
        "    value = input('Position [q to quit]? ')\n",
        "    if value == 'q':\n",
        "        break\n",
        "    try:\n",
        "        position = int(value)\n",
        "        print(short_list[position])\n",
        "    except IndexError as err:\n",
        "        print('Bad index:', position, '-', err)\n",
        "    except Exception as other:\n",
        "        print('Something else broke:', other)"
      ],
      "metadata": {
        "colab": {
          "base_uri": "https://localhost:8080/"
        },
        "id": "ea9J-XpyMoYw",
        "outputId": "c347e622-3738-4c2b-9e4b-586f8c706143"
      },
      "execution_count": 42,
      "outputs": [
        {
          "name": "stdout",
          "output_type": "stream",
          "text": [
            "Position [q to quit]? 0\n",
            "1\n",
            "Position [q to quit]? 10\n",
            "Bad index: 10 - list index out of range\n",
            "Position [q to quit]? $10\n",
            "Something else broke: invalid literal for int() with base 10: '$10'\n",
            "Position [q to quit]? q\n"
          ]
        }
      ]
    },
    {
      "cell_type": "markdown",
      "source": [
        "# CW 4.7"
      ],
      "metadata": {
        "id": "bm1TrTqRNmLe"
      }
    },
    {
      "cell_type": "code",
      "source": [
        "value = \"$320\"\n",
        "\n",
        "try:\n",
        "  val_n = float(value)\n",
        "except:\n",
        "  print(\"the message\")"
      ],
      "metadata": {
        "colab": {
          "base_uri": "https://localhost:8080/"
        },
        "id": "ZcVPYzQCNS0h",
        "outputId": "8f5158dd-8649-4be7-a082-a29a721358f5"
      },
      "execution_count": 44,
      "outputs": [
        {
          "output_type": "stream",
          "name": "stdout",
          "text": [
            "the message\n"
          ]
        }
      ]
    }
  ]
}